{
 "cells": [
  {
   "cell_type": "code",
   "execution_count": 3,
   "id": "262d4e44",
   "metadata": {},
   "outputs": [
    {
     "name": "stdout",
     "output_type": "stream",
     "text": [
      "El saldo es 1000 €\n"
     ]
    }
   ],
   "source": [
    "class Tarjeta:\n",
    "    def __init__(self, id, cantidad = 0):    # Inicializador\n",
    "        self.id = id                         # Creación del atributo id  \n",
    "        self.saldo = cantidad                # Creación del atributo saldo\n",
    "        return\n",
    "    \n",
    "    # Metodos\n",
    "    def mostrar_saldo(self):\n",
    "        print('El saldo es', self.saldo, '€')\n",
    "        return\n",
    "\n",
    "# Introducir la instancia\n",
    "t = Tarjeta('1111111111', 1000)     # Creación de un objeto con argumentos             \n",
    "t.mostrar_saldo()"
   ]
  },
  {
   "cell_type": "code",
   "execution_count": 6,
   "id": "b1b0646a",
   "metadata": {
    "scrolled": true
   },
   "outputs": [
    {
     "name": "stdout",
     "output_type": "stream",
     "text": [
      "El valor actual del  Bitcoin es 1000 €\n"
     ]
    }
   ],
   "source": [
    "class Cripto:\n",
    "    def __init__(self, id, valor_actual = 0,max_hist=0,min_hist=0):    # Inicializador\n",
    "        self.id = id                             # Creación del atributo id  \n",
    "        self.valor_actual = valor_actual         # Creación del atributo Valor Actual\n",
    "        self.max_hist = max_hist           # Creación del atributo Maximo Historico\n",
    "        self.min_hist = min_hist           # Creación del atributo Maximo Historico\n",
    "        return\n",
    "\n",
    "    def mostrar_datos(self):\n",
    "        print('El valor actual del ',self.id, \"es\" ,self.valor_actual, '€')\n",
    "        return\n",
    "    \n",
    "Bitcoin = Cripto('Bitcoin',1000,2000,30)     # Creación de un objeto con argumentos             \n",
    "Bitcoin.mostrar_datos()"
   ]
  },
  {
   "cell_type": "code",
   "execution_count": 15,
   "id": "400bc310",
   "metadata": {},
   "outputs": [
    {
     "name": "stdout",
     "output_type": "stream",
     "text": [
      "Ingrese el nombre: Fred\n",
      "Ingrese la edad: 31\n",
      "Nombre:  Fred\n",
      "Edad:  31\n",
      "Ingrese el nombre: Juan\n",
      "Ingrese la edad: 35\n",
      "Ingrese el sueldo: 1000\n",
      "Nombre:  Juan\n",
      "Edad:  35\n",
      "Sueldo:  1000.0\n",
      "El empleado no paga impuestos.\n"
     ]
    }
   ],
   "source": [
    "class Persona:\n",
    "    # declaramos el metodo _init_\n",
    "    def __init__(self):\n",
    "        self.nombre=input(\"Ingrese el nombre: \")\n",
    "        self.edad=int(input(\"Ingrese la edad: \"))\n",
    "    \n",
    "    # declaramos el metodo mostrar\n",
    "    def mostrar(self):\n",
    "        print(\"Nombre: \",self.nombre)\n",
    "        print(\"Edad: \",self.edad)\n",
    "        \n",
    "        \n",
    "\n",
    "class Empleado(Persona):\n",
    "    # declaramos la clase empleado\n",
    "    # la clase empleado hereda los atributos y metodos de la clase Persona\n",
    "    \n",
    "    # declaramos el metodo _init_\n",
    "    def __init__(self):\n",
    "        # llamamos al metodo init de la clase padre\n",
    "        # utilizamos la funcion super() para hacer referencia al padre\n",
    "        super().__init__()\n",
    "        self.sueldo=float(input(\"Ingrese el sueldo: \"))\n",
    "    # declaramos el metodo mostrar\n",
    "    \n",
    "    def mostrar(self):\n",
    "        super().mostrar()\n",
    "        print(\"Sueldo: \",self.sueldo)\n",
    "    \n",
    "    \n",
    "    # declaramos el metodo pagar_impuestos\n",
    "    # comprobara si el empleado debe pagar o no\n",
    "    def pagar_impuestos(self):\n",
    "        if self.sueldo > 3000:\n",
    "            print(\"El empleado debe pagar impuestos.\")\n",
    "        else:\n",
    "            print(\"El empleado no paga impuestos.\")\n",
    "\n",
    "# bloque principal\n",
    "persona1=Persona()\n",
    "persona1.mostrar()\n",
    "empleado1=Empleado()\n",
    "empleado1.mostrar()\n",
    "empleado1.pagar_impuestos()"
   ]
  },
  {
   "cell_type": "code",
   "execution_count": 17,
   "id": "b3514d05",
   "metadata": {
    "scrolled": false
   },
   "outputs": [
    {
     "name": "stdout",
     "output_type": "stream",
     "text": [
      "Nombre:  Juan\n",
      "Edad:  35\n",
      "Sueldo:  1000.0\n"
     ]
    }
   ],
   "source": [
    "empleado1.mostrar()"
   ]
  },
  {
   "cell_type": "markdown",
   "id": "a627152a",
   "metadata": {},
   "source": [
    "## Ejercicio 1:\n",
    "Realizar un programa que conste de una clase llamada Alumno que tenga como atributos el nombre y la nota del alumno. Definir los métodos para inicializar sus atributos, imprimirlos y mostrar un mensaje con el resultado de la nota y si ha aprobado o no.´"
   ]
  },
  {
   "cell_type": "code",
   "execution_count": 33,
   "id": "e777734a",
   "metadata": {},
   "outputs": [
    {
     "name": "stdout",
     "output_type": "stream",
     "text": [
      "Ingrese el nombre: Luis\n",
      "Ingrese la nota: 5\n",
      "\n",
      "El alumno  Luis tiene una nota de:  5.0\n",
      "\n",
      "El Alumno Luis tiene una nota de 5.0 menor a 7 \n",
      " --> Por lo tanto No Aprueba el Examen\n"
     ]
    }
   ],
   "source": [
    "class Alumno:\n",
    "    def __init__(self):            # Inicializador\n",
    "        self.nombre=input(\"Ingrese el nombre: \")       # Creación del atributo Nombre  \n",
    "        self.nota=float(input(\"Ingrese la nota: \"))    # Creación del atributo Nota \n",
    "    \n",
    "    # Metodos Atributos\n",
    "    def mostrar_atributo(self):\n",
    "        print('\\nEl alumno ', self.nombre, \"tiene una nota de: \", self.nota)\n",
    "\n",
    "    # Metodos Que muestra si el alumno Aprueba o no\n",
    "    def aprueba(self):\n",
    "        if self.nota >= 7:\n",
    "            print(\"\\nEl Alumno\", self.nombre, \"tiene una nota de\", self.nota, \"mayor o igual  a 7 \\n --> Por lo tanto Aprueba el Examen\")\n",
    "        else:\n",
    "            print(\"\\nEl Alumno\", self.nombre, \"tiene una nota de\", self.nota, \"menor a 7 \\n --> Por lo tanto No Aprueba el Examen\")\n",
    "\n",
    "# Main\n",
    "alumno1=Alumno()             # Creación de un objeto con argumentos             \n",
    "alumno1.mostrar_atributo()   # Aplicamos Metodo Mostrar Atributo de la Clase Alumno\n",
    "alumno1.aprueba()            # Aplicamos Metodo que muestra si el alumno Aprobo o no"
   ]
  },
  {
   "cell_type": "markdown",
   "id": "de159467",
   "metadata": {},
   "source": [
    "## Ejercicio 2:\n",
    "Realizar un programa que tenga una clase Persona con las siguientes características. La clase tendrá como atributos el nombre y la edad de una persona. Implementar los métodos necesarios para inicializar los atributos, mostrar los datos e indicar si la persona es mayor de edad o no."
   ]
  },
  {
   "cell_type": "code",
   "execution_count": 39,
   "id": "8227119f",
   "metadata": {
    "scrolled": true
   },
   "outputs": [
    {
     "name": "stdout",
     "output_type": "stream",
     "text": [
      "Ingrese el nombre: Luis\n",
      "Ingrese la edad: 15\n",
      "\n",
      " Luis tiene una edad de  15 años\n",
      "\n",
      " Luis es menor de edad🍼🍼\n"
     ]
    }
   ],
   "source": [
    "class Persona:\n",
    "    def __init__(self):            # Inicializador\n",
    "        self.nombre=input(\"Ingrese el nombre: \")       # Creación del atributo Nombre  \n",
    "        self.edad=int(input(\"Ingrese la edad: \"))      # Creación del atributo Edad\n",
    "\n",
    "    # Metodos que muestra los Atributos\n",
    "    def mostrar_atributos(self):\n",
    "        print('\\n',self.nombre, \"tiene una edad de \" , self.edad, \"años\")\n",
    "\n",
    "    # Metodos Que muestra si la persona es mayor de edad o no\n",
    "    def mayor_edad(self):\n",
    "        if self.edad >= 18:\n",
    "            print(\"\\n\", self.nombre, \"es mayor de eda🍺🍺\")\n",
    "        else:\n",
    "            print(\"\\n\", self.nombre, \"es menor de edad🍼🍼\")\n",
    "\n",
    "# Main\n",
    "persona1=Persona()             # Creación de un objeto con argumentos             \n",
    "persona1.mostrar_atributos()   # Aplicamos Metodo Mostrar Atributo de la Clase Alumno\n",
    "persona1.mayor_edad()          # Aplicamos Metodo que muestra si el alumno Aprobo o no"
   ]
  },
  {
   "cell_type": "markdown",
   "id": "eb32d2d6",
   "metadata": {},
   "source": [
    "## Ejercicio 3:\n",
    "Desarrollar un programa que conste de una clase padre Cuenta y dos subclases PlazoFijo y CajaAhorro. \n",
    "Definir los atributos titular y cantidad y un método para imprimir los datos en la clase Cuenta. \n",
    "\n",
    "La clase CajaAhorro tendrá un método para heredar los datos y uno para mostrar la información.\n",
    "\n",
    "La clase PlazoFijo tendrá dos atributos propios, plazo e interés. Tendrá un método para obtener el importe del interés (cantidad*interés/100) y otro método para mostrar la información, datos del titular plazo, interés y total de interés.\n",
    "Crear al menos un objeto de cada subclase."
   ]
  },
  {
   "cell_type": "code",
   "execution_count": null,
   "id": "c1121e9d",
   "metadata": {},
   "outputs": [
    {
     "name": "stdout",
     "output_type": "stream",
     "text": [
      "Ingrese el Titular: Fred\n",
      "Ingrese la cantidad: 5000\n",
      "\n",
      "Titular:  Fred \n",
      "Cantidad 5000\n"
     ]
    }
   ],
   "source": [
    "class Cuenta:\n",
    "    def __init__(self):                                      # Inicializador\n",
    "        self.titular=input(\"Ingrese el Titular: \")           # Creación del atributo Titular \n",
    "        self.cantidad=int(input(\"Ingrese la cantidad: \"))    # Creación del atributo Cantidad\n",
    "\n",
    "    # Metodos que muestra los Atributos\n",
    "    def mostrar(self):\n",
    "        print('\\nTitular: ',self.titular, \"\\nCantidad\" , self.cantidad)\n",
    "\n",
    "class CajaAhorro(Cuenta):\n",
    "    # declaramos el metodo _init_\n",
    "    def __init__(self):\n",
    "        # llamamos al metodo init de la clase padre\n",
    "        # utilizamos la funcion super() para hacer referencia al padre\n",
    "        super().__init__()\n",
    "\n",
    "    # Metodos que muestra los Atributos\n",
    "    def mostrar(self):\n",
    "        super().mostrar()\n",
    "    \n",
    "class PlazoFijo(Cuenta):\n",
    "    # declaramos el metodo _init_\n",
    "    def __init__(self):\n",
    "        # llamamos al metodo init de la clase padre\n",
    "        # utilizamos la funcion super() para hacer referencia al padre\n",
    "        super().__init__() \n",
    "        self.plazo=float(input(\"Ingrese el plazo: \"))       # Creación del atributo Plazo\n",
    "        self.interes=float(input(\"Ingrese el interes: \"))   # Creación del atributo Interes\n",
    "            \n",
    "    # declaramos el metodo que calcula el importe del interes\n",
    "    def importe(self):\n",
    "        self.importe_interes = (self.cantidad*self.interes) /100\n",
    "    \n",
    "    # declaramos el metrar\n",
    "    def mostrar(self):\n",
    "        super().mostrar()\n",
    "        print(\"Interes:\", self.importe_interes, \"\\nPlazo:\",self.plazo, \"\\nImporte del interes:\",self.importe_interes)\n",
    "\n",
    "# Main\n",
    "persona1=Cuenta()                       \n",
    "persona1.mostrar()   \n",
    "caja1=CajaAhorro()         \n",
    "caja1.mostrar()        \n",
    "plazo1=PlazoFijo()         \n",
    "plazo1.importe()          \n",
    "plazo1.mostrar()        "
   ]
  },
  {
   "cell_type": "code",
   "execution_count": 47,
   "id": "34bd88f3",
   "metadata": {},
   "outputs": [
    {
     "name": "stdout",
     "output_type": "stream",
     "text": [
      "\n",
      "Titular:  Fred \n",
      "Cantidad 100\n",
      "Interes: 5.0 \n",
      "Plazo: 100.0 \n",
      "Importe del interes: 5.0\n"
     ]
    }
   ],
   "source": [
    "persona1.mostrar()   "
   ]
  }
 ],
 "metadata": {
  "kernelspec": {
   "display_name": "Python 3",
   "language": "python",
   "name": "python3"
  },
  "language_info": {
   "codemirror_mode": {
    "name": "ipython",
    "version": 3
   },
   "file_extension": ".py",
   "mimetype": "text/x-python",
   "name": "python",
   "nbconvert_exporter": "python",
   "pygments_lexer": "ipython3",
   "version": "3.8.8"
  }
 },
 "nbformat": 4,
 "nbformat_minor": 5
}
